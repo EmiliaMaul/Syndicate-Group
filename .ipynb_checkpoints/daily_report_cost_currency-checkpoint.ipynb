{
 "cells": [
  {
   "cell_type": "markdown",
   "id": "f009fdfd",
   "metadata": {},
   "source": [
    "### С помощью кода данные о цене и валюте оплачиваемых конверсий подтягиваются из одной таблицы в другую - таблицу для создания ежедневного отчета\n",
    "Изначально таблицы не имеют уникального ключа для объединения данных"
   ]
  },
  {
   "cell_type": "code",
   "execution_count": 1,
   "id": "61172e69",
   "metadata": {},
   "outputs": [],
   "source": [
    "import pandas as pd\n",
    "from datetime import date\n",
    "from datetime import datetime\n",
    "import numpy as np\n",
    "import requests"
   ]
  },
  {
   "cell_type": "markdown",
   "id": "6f5f15f9",
   "metadata": {},
   "source": [
    "### Чтение и предобработка"
   ]
  },
  {
   "cell_type": "code",
   "execution_count": 5,
   "id": "0373dbe9",
   "metadata": {},
   "outputs": [],
   "source": [
    "# создание переменной \"дата\", которая используется в названии файлов\n",
    "date = (datetime.now()-pd.Timedelta(1, \"d\")).date()"
   ]
  },
  {
   "cell_type": "code",
   "execution_count": 6,
   "id": "81d4e899",
   "metadata": {},
   "outputs": [],
   "source": [
    "# чтение загруженных в папку файлов\n",
    "offers = pd.read_csv(f'ReportOffer_{date}_{date}.csv', sep=';')\n",
    "offer_target = pd.read_csv(f'ReportOfferTarget_{date}_{date}.csv', sep=';')"
   ]
  },
  {
   "cell_type": "code",
   "execution_count": 7,
   "id": "ce03b75c",
   "metadata": {},
   "outputs": [
    {
     "name": "stdout",
     "output_type": "stream",
     "text": [
      "В документе 1328 строк\n"
     ]
    }
   ],
   "source": [
    "# просмотр количества строк для сверки с конечным документом\n",
    "strings = offers.shape[0]\n",
    "print(f'В документе {strings} строк')"
   ]
  },
  {
   "cell_type": "code",
   "execution_count": 8,
   "id": "2089efd5",
   "metadata": {},
   "outputs": [],
   "source": [
    "# создание новых названий столбцов для удобства работы и синхронизации таблиц\n",
    "offers = offers.rename(columns={\n",
    "    'Дата':'date', \n",
    "    'Offer Account Manager Team Name':'account_manager', \n",
    "    'Байер':'buyer', \n",
    "    'Оффер':'offer',\n",
    "    'Тип трекера':'tracker_type', \n",
    "    'Offer External Id':'offer_external_id', \n",
    "    'Приложение':'app', \n",
    "    'Группа офферов':'offer group',\n",
    "    'Страна':'geo', \n",
    "    'Платформа':'platform', \n",
    "    'Источник трафика':'media_source', \n",
    "    'Команда':'team', \n",
    "    'Ячейки':'subteam',\n",
    "    'Выплаты':'income', \n",
    "    'Затраты':'spend', \n",
    "    'Маржа':'margin', \n",
    "    'Комиссия':'commission', \n",
    "    '% за шлюз':'gateway_fee', \n",
    "    'ROI':'ROI',\n",
    "    'Депозит':'deposit', \n",
    "    'Конверсия':'conversion', \n",
    "    'Подтв. конверсия':'confirmed_conversion', \n",
    "    'Rebill':'rebill',\n",
    "    \"Number of subid's with quality\":'subids_with_quality_number', \n",
    "    'Средний депозит':'mean_deposit',\n",
    "    'Общая сумма депозитов':'total_deposits', \n",
    "    'Cabinet Name':'cabinet_name', \n",
    "    'Является кабинет белым':'is_cabinet_white',\n",
    "    'Sub Id10':'sub_id10', \n",
    "    'Sub Id':'sub_id'\n",
    "})\n",
    "\n",
    "offer_target = offer_target.rename(columns={\n",
    "    'Дата':'date', \n",
    "    'Байер':'buyer', \n",
    "    'Оффер':'offer',\n",
    "    'Статус оффера':'offer_status',\n",
    "    'Тип трекера':'tracker_type', \n",
    "    'Offer External Id':'offer_external_id', \n",
    "    'Ответственный менеджер':'account_manager',\n",
    "    'Ср. цена депозита':'mean_deposit_cost',\n",
    "    'Страна':'geo', \n",
    "    'Платформа':'platform', \n",
    "    'Источник трафика':'media_source', \n",
    "    'Приложение':'app', \n",
    "    'Группа офферов':'offer group',\n",
    "    'Команда':'team', \n",
    "    'Ячейка':'subteam',\n",
    "    'Цель конверсии Оффера':'offer_conversion_aim',\n",
    "    'Выплата за цель/% комиссии':'offer_cost', \n",
    "    'Валюта цели':'currency',\n",
    "    'Выплаты':'income', \n",
    "    'Sum Payout With Corrected':'sum_payout_with_corrected',\n",
    "    'Депозит':'deposit', \n",
    "    'Конверсия':'conversion', \n",
    "    'Подтв. конверсия':'confirmed_conversion', \n",
    "    'Новые компании':'new_campaigns',\n",
    "    'Активные кампании':'active_campaigns', \n",
    "    'Sub Id':'sub_id',\n",
    "    'Sub Id10':'sub_id10', \n",
    "    'Cabinet Name':'cabinet_name', \n",
    "    'Кабинет является белым':'is_cabinet_white'\n",
    "})"
   ]
  },
  {
   "cell_type": "markdown",
   "id": "ed78e102",
   "metadata": {},
   "source": [
    "### Создание итогового файла"
   ]
  },
  {
   "cell_type": "code",
   "execution_count": 9,
   "id": "574ef7ea",
   "metadata": {},
   "outputs": [],
   "source": [
    "# создание уникального ключа для объединения таблиц по типу трекера appsflyer\n",
    "offers['key'] = offers['date'] \\\n",
    "                .astype(str)+offers['buyer'] \\\n",
    "                .astype(str)+offers['offer_external_id'] \\\n",
    "                .astype(str)+offers['geo'] \\\n",
    "                .astype(str)+offers['media_source'] \\\n",
    "                .astype(str)+offers['cabinet_name'] \\\n",
    "                .astype(str)\n",
    "\n",
    "offer_target['key'] = offer_target['date'] \\\n",
    "                .astype(str)+offer_target['buyer'] \\\n",
    "                .astype(str)+offer_target['offer_external_id'] \\\n",
    "                .astype(str)+offer_target['geo'] \\\n",
    "                .astype(str)+offer_target['media_source'] \\\n",
    "                .astype(str)+offer_target['cabinet_name'] \\\n",
    "                .astype(str)"
   ]
  },
  {
   "cell_type": "code",
   "execution_count": 10,
   "id": "9a8a1697",
   "metadata": {},
   "outputs": [],
   "source": [
    "# разделение таблицы на три части по типу трекера, так как они имеют разные уникальные ключи \n",
    "offers_default = offers.query('tracker_type == \"Default\"')\n",
    "offers_af = offers.query('tracker_type == \"Appsflyer\"')\n",
    "offers_ktr = offers.query('tracker_type == \"Keitaro\"')"
   ]
  },
  {
   "cell_type": "code",
   "execution_count": 11,
   "id": "eed90ae6",
   "metadata": {},
   "outputs": [],
   "source": [
    "# подтягивание необходимых значений из одной таблицы в другую\n",
    "offers_keitaro = offers_ktr \\\n",
    "    .merge(offer_target[['sub_id', 'offer_cost', 'currency']] \\\n",
    "    .dropna(), how='left', on='sub_id', validate='m:m')\n",
    "\n",
    "offers_appsflyer = offers_af \\\n",
    "    .merge(offer_target[['key', 'offer_cost', 'currency']] \\\n",
    "    .drop_duplicates(subset='key'), how='left', on='key', validate='m:m')"
   ]
  },
  {
   "cell_type": "code",
   "execution_count": 12,
   "id": "930b8853",
   "metadata": {},
   "outputs": [],
   "source": [
    "# соединение трех частей с новыми данными обратно в одну таблицу\n",
    "report_offers = pd.concat([offers_default, offers_appsflyer, offers_keitaro], axis=0)"
   ]
  },
  {
   "cell_type": "code",
   "execution_count": 13,
   "id": "74d9bf97",
   "metadata": {},
   "outputs": [],
   "source": [
    "# удаление лишнего столбца\n",
    "report_offers = report_offers.drop(columns='is_cabinet_white')"
   ]
  },
  {
   "cell_type": "code",
   "execution_count": 14,
   "id": "43309247",
   "metadata": {},
   "outputs": [],
   "source": [
    "# замена типа данных для даты\n",
    "report_offers.date = pd.to_datetime(report_offers.date)"
   ]
  },
  {
   "cell_type": "code",
   "execution_count": 15,
   "id": "b331eb93",
   "metadata": {},
   "outputs": [],
   "source": [
    "# подготовка к замене типа данных для числовых значений\n",
    "report_offers['offer_cost'] = report_offers['offer_cost'].str.replace(',', '.')\n",
    "report_offers['offer_cost'] = report_offers['offer_cost'].str.replace(' ', '')\n",
    "report_offers['income'] = report_offers['income'].str.replace(',', '.')\n",
    "report_offers['spend'] = report_offers['spend'].str.replace(',', '.')\n",
    "report_offers['margin'] = report_offers['margin'].str.replace(',', '.')\n",
    "report_offers['commission'] = report_offers['commission'].str.replace(',', '.')\n",
    "report_offers['gateway_fee'] = report_offers['gateway_fee'].str.replace(',', '.')\n",
    "report_offers['ROI'] = report_offers['ROI'].str.replace(',', '.')"
   ]
  },
  {
   "cell_type": "code",
   "execution_count": 16,
   "id": "f88ada17",
   "metadata": {},
   "outputs": [],
   "source": [
    "# замена типа данных для числовых значений \n",
    "report_offers['offer_cost'] = report_offers['offer_cost'].astype('float64')\n",
    "report_offers['income'] = report_offers['income'].astype('float64')\n",
    "report_offers['spend'] = report_offers['spend'].astype('float64')\n",
    "report_offers['margin'] = report_offers['margin'].astype('float64')\n",
    "report_offers['commission'] = report_offers['commission'].astype('float64')\n",
    "report_offers['gateway_fee'] = report_offers['gateway_fee'].astype('float64')\n",
    "report_offers['ROI'] = report_offers['ROI'].astype('float64')"
   ]
  },
  {
   "cell_type": "code",
   "execution_count": 17,
   "id": "215ecf09",
   "metadata": {},
   "outputs": [],
   "source": [
    "# изменение порядка столбцов\n",
    "report_offers = report_offers[['date', 'buyer', 'offer', 'tracker_type',\n",
    "       'offer_external_id', 'account_manager', 'app', 'offer group', 'geo', 'platform',\n",
    "       'media_source', 'team', 'subteam', 'income', 'spend', 'margin',\n",
    "       'commission', 'gateway_fee', 'ROI', 'deposit', 'conversion',\n",
    "       'confirmed_conversion', 'rebill', 'subids_with_quality_number',\n",
    "       'mean_deposit', 'total_deposits', 'cabinet_name', 'sub_id10', 'sub_id',\n",
    "       'key', 'offer_cost', 'currency']]"
   ]
  },
  {
   "cell_type": "code",
   "execution_count": 18,
   "id": "c4137055",
   "metadata": {},
   "outputs": [
    {
     "name": "stdout",
     "output_type": "stream",
     "text": [
      "Всё верно! В документе 1328 строк.\n"
     ]
    }
   ],
   "source": [
    "# проверка количества строк на совпадение с исходным документом и сохранение итогового файла\n",
    "final_strings = report_offers.shape[0]\n",
    "if final_strings == strings:\n",
    "    report_offers.to_excel(f'report_offers_{date}.xlsx', index=False)\n",
    "    print(f'Всё верно! В документе {final_strings} строк.')\n",
    "elif final_strings != strings:\n",
    "    print('Ошибка! Количество строк не совпало!')"
   ]
  }
 ],
 "metadata": {
  "kernelspec": {
   "display_name": "Python 3 (ipykernel)",
   "language": "python",
   "name": "python3"
  },
  "language_info": {
   "codemirror_mode": {
    "name": "ipython",
    "version": 3
   },
   "file_extension": ".py",
   "mimetype": "text/x-python",
   "name": "python",
   "nbconvert_exporter": "python",
   "pygments_lexer": "ipython3",
   "version": "3.10.9"
  }
 },
 "nbformat": 4,
 "nbformat_minor": 5
}
