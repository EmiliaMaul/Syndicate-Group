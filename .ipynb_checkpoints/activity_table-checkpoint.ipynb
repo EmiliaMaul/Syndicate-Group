{
 "cells": [
  {
   "cell_type": "markdown",
   "id": "f009fdfd",
   "metadata": {},
   "source": [
    "### Из файла Activity Table, требуется добыть информацию о количестве конверсий по каждому байеру, чтобы установить соответствие с количеством конверсий в отчете из другого источника\n",
    "Данные в этом скриптe искусственные и не содержат конфиденциальной информации"
   ]
  },
  {
   "cell_type": "code",
   "execution_count": 105,
   "id": "ff8ac619",
   "metadata": {},
   "outputs": [],
   "source": [
    "import pandas as pd\n",
    "import re"
   ]
  },
  {
   "cell_type": "markdown",
   "id": "2e1ec924",
   "metadata": {},
   "source": [
    "Название файла при скачивании имеет всегда вид Activity table ({номер_таблицы}).csv"
   ]
  },
  {
   "cell_type": "code",
   "execution_count": 112,
   "id": "4a26b44a",
   "metadata": {},
   "outputs": [],
   "source": [
    "# Создание переменной, содержащей путь к файлу\n",
    "filepath = '/Users/emiliamaul/Documents/GitHub/Syndicate-Group/Activity table (18).csv'"
   ]
  },
  {
   "cell_type": "markdown",
   "id": "27865d87",
   "metadata": {},
   "source": [
    "Файл всегда содержит в себе 5 столбцов, и 2 уровня названия столбцов, поэтому файл считывается без первой строчки"
   ]
  },
  {
   "cell_type": "code",
   "execution_count": 113,
   "id": "25eddeae",
   "metadata": {},
   "outputs": [
    {
     "data": {
      "text/html": [
       "<div>\n",
       "<style scoped>\n",
       "    .dataframe tbody tr th:only-of-type {\n",
       "        vertical-align: middle;\n",
       "    }\n",
       "\n",
       "    .dataframe tbody tr th {\n",
       "        vertical-align: top;\n",
       "    }\n",
       "\n",
       "    .dataframe thead th {\n",
       "        text-align: right;\n",
       "    }\n",
       "</style>\n",
       "<table border=\"1\" class=\"dataframe\">\n",
       "  <thead>\n",
       "    <tr style=\"text-align: right;\">\n",
       "      <th></th>\n",
       "      <th>Unnamed: 0</th>\n",
       "      <th>Unnamed: 1</th>\n",
       "      <th>Conversion Count</th>\n",
       "      <th>Average Daily Unique Users</th>\n",
       "      <th>Revenue</th>\n",
       "    </tr>\n",
       "  </thead>\n",
       "  <tbody>\n",
       "    <tr>\n",
       "      <th>0</th>\n",
       "      <td>appcom_000_offer1_app_geo_platform_offer1_team...</td>\n",
       "      <td>22339024008894300</td>\n",
       "      <td>3</td>\n",
       "      <td>3</td>\n",
       "      <td>300,00 $</td>\n",
       "    </tr>\n",
       "    <tr>\n",
       "      <th>1</th>\n",
       "      <td>appcom_111_offer2_app_geo_platform_offer3_team...</td>\n",
       "      <td>18314123353604800</td>\n",
       "      <td>5</td>\n",
       "      <td>5</td>\n",
       "      <td>410,00 $</td>\n",
       "    </tr>\n",
       "    <tr>\n",
       "      <th>2</th>\n",
       "      <td>appcom_22_offer3_app_geo_platform_offer5_team122</td>\n",
       "      <td>16481202959859600</td>\n",
       "      <td>5</td>\n",
       "      <td>5</td>\n",
       "      <td>410,00 $</td>\n",
       "    </tr>\n",
       "    <tr>\n",
       "      <th>3</th>\n",
       "      <td>appcom_333_offer2_app_geo_platform_offer4_team...</td>\n",
       "      <td>609231875640264</td>\n",
       "      <td>7</td>\n",
       "      <td>7</td>\n",
       "      <td>180,00 $</td>\n",
       "    </tr>\n",
       "    <tr>\n",
       "      <th>4</th>\n",
       "      <td>appcom_000_offer1_app_geo_platform_offer1_team...</td>\n",
       "      <td>20535349045617300</td>\n",
       "      <td>2</td>\n",
       "      <td>2</td>\n",
       "      <td>150,00 $</td>\n",
       "    </tr>\n",
       "  </tbody>\n",
       "</table>\n",
       "</div>"
      ],
      "text/plain": [
       "                                          Unnamed: 0         Unnamed: 1  \\\n",
       "0  appcom_000_offer1_app_geo_platform_offer1_team...  22339024008894300   \n",
       "1  appcom_111_offer2_app_geo_platform_offer3_team...  18314123353604800   \n",
       "2   appcom_22_offer3_app_geo_platform_offer5_team122  16481202959859600   \n",
       "3  appcom_333_offer2_app_geo_platform_offer4_team...    609231875640264   \n",
       "4  appcom_000_offer1_app_geo_platform_offer1_team...  20535349045617300   \n",
       "\n",
       "   Conversion Count  Average Daily Unique Users   Revenue  \n",
       "0                 3                           3  300,00 $  \n",
       "1                 5                           5  410,00 $  \n",
       "2                 5                           5  410,00 $  \n",
       "3                 7                           7  180,00 $  \n",
       "4                 2                           2  150,00 $  "
      ]
     },
     "execution_count": 113,
     "metadata": {},
     "output_type": "execute_result"
    }
   ],
   "source": [
    "# Чтение файла\n",
    "activity = pd.read_csv(filepath, sep=';', header=1)\n",
    "activity.head()"
   ]
  },
  {
   "cell_type": "code",
   "execution_count": 114,
   "id": "21451791",
   "metadata": {},
   "outputs": [
    {
     "data": {
      "text/html": [
       "<div>\n",
       "<style scoped>\n",
       "    .dataframe tbody tr th:only-of-type {\n",
       "        vertical-align: middle;\n",
       "    }\n",
       "\n",
       "    .dataframe tbody tr th {\n",
       "        vertical-align: top;\n",
       "    }\n",
       "\n",
       "    .dataframe thead th {\n",
       "        text-align: right;\n",
       "    }\n",
       "</style>\n",
       "<table border=\"1\" class=\"dataframe\">\n",
       "  <thead>\n",
       "    <tr style=\"text-align: right;\">\n",
       "      <th></th>\n",
       "      <th>buyer</th>\n",
       "      <th>event_counter</th>\n",
       "    </tr>\n",
       "  </thead>\n",
       "  <tbody>\n",
       "    <tr>\n",
       "      <th>0</th>\n",
       "      <td>appcom_000_offer1_app_geo_platform_offer1_team...</td>\n",
       "      <td>3</td>\n",
       "    </tr>\n",
       "    <tr>\n",
       "      <th>1</th>\n",
       "      <td>appcom_111_offer2_app_geo_platform_offer3_team...</td>\n",
       "      <td>5</td>\n",
       "    </tr>\n",
       "    <tr>\n",
       "      <th>2</th>\n",
       "      <td>appcom_22_offer3_app_geo_platform_offer5_team122</td>\n",
       "      <td>5</td>\n",
       "    </tr>\n",
       "    <tr>\n",
       "      <th>3</th>\n",
       "      <td>appcom_333_offer2_app_geo_platform_offer4_team...</td>\n",
       "      <td>7</td>\n",
       "    </tr>\n",
       "    <tr>\n",
       "      <th>4</th>\n",
       "      <td>appcom_000_offer1_app_geo_platform_offer1_team...</td>\n",
       "      <td>2</td>\n",
       "    </tr>\n",
       "  </tbody>\n",
       "</table>\n",
       "</div>"
      ],
      "text/plain": [
       "                                               buyer  event_counter\n",
       "0  appcom_000_offer1_app_geo_platform_offer1_team...              3\n",
       "1  appcom_111_offer2_app_geo_platform_offer3_team...              5\n",
       "2   appcom_22_offer3_app_geo_platform_offer5_team122              5\n",
       "3  appcom_333_offer2_app_geo_platform_offer4_team...              7\n",
       "4  appcom_000_offer1_app_geo_platform_offer1_team...              2"
      ]
     },
     "execution_count": 114,
     "metadata": {},
     "output_type": "execute_result"
    }
   ],
   "source": [
    "# Отбор необходимых столбцов и их переименование в наиболее удобный формат\n",
    "activity = activity.rename(columns={\n",
    "                        'Unnamed: 0':'buyer', \n",
    "                        'Conversion Count':'event_counter'\n",
    "                        })[['buyer', 'event_counter']]\n",
    "activity.head()"
   ]
  },
  {
   "cell_type": "code",
   "execution_count": 115,
   "id": "2695e594",
   "metadata": {},
   "outputs": [
    {
     "data": {
      "text/html": [
       "<div>\n",
       "<style scoped>\n",
       "    .dataframe tbody tr th:only-of-type {\n",
       "        vertical-align: middle;\n",
       "    }\n",
       "\n",
       "    .dataframe tbody tr th {\n",
       "        vertical-align: top;\n",
       "    }\n",
       "\n",
       "    .dataframe thead th {\n",
       "        text-align: right;\n",
       "    }\n",
       "</style>\n",
       "<table border=\"1\" class=\"dataframe\">\n",
       "  <thead>\n",
       "    <tr style=\"text-align: right;\">\n",
       "      <th></th>\n",
       "      <th>buyer</th>\n",
       "      <th>event_counter</th>\n",
       "    </tr>\n",
       "  </thead>\n",
       "  <tbody>\n",
       "    <tr>\n",
       "      <th>0</th>\n",
       "      <td>000</td>\n",
       "      <td>3</td>\n",
       "    </tr>\n",
       "    <tr>\n",
       "      <th>1</th>\n",
       "      <td>111</td>\n",
       "      <td>5</td>\n",
       "    </tr>\n",
       "    <tr>\n",
       "      <th>2</th>\n",
       "      <td>22</td>\n",
       "      <td>5</td>\n",
       "    </tr>\n",
       "    <tr>\n",
       "      <th>3</th>\n",
       "      <td>333</td>\n",
       "      <td>7</td>\n",
       "    </tr>\n",
       "    <tr>\n",
       "      <th>4</th>\n",
       "      <td>000</td>\n",
       "      <td>2</td>\n",
       "    </tr>\n",
       "  </tbody>\n",
       "</table>\n",
       "</div>"
      ],
      "text/plain": [
       "  buyer  event_counter\n",
       "0   000              3\n",
       "1   111              5\n",
       "2    22              5\n",
       "3   333              7\n",
       "4   000              2"
      ]
     },
     "execution_count": 115,
     "metadata": {},
     "output_type": "execute_result"
    }
   ],
   "source": [
    "# В столбце buyer содержится полное название кампании, оттуда необходимо извлечь только номер байера\n",
    "activity['buyer'] = activity['buyer'].str.split(\"_\", n=2, expand=True)[1]\n",
    "activity.head()"
   ]
  },
  {
   "cell_type": "code",
   "execution_count": 116,
   "id": "4078a68d",
   "metadata": {},
   "outputs": [
    {
     "data": {
      "text/html": [
       "<div>\n",
       "<style scoped>\n",
       "    .dataframe tbody tr th:only-of-type {\n",
       "        vertical-align: middle;\n",
       "    }\n",
       "\n",
       "    .dataframe tbody tr th {\n",
       "        vertical-align: top;\n",
       "    }\n",
       "\n",
       "    .dataframe thead th {\n",
       "        text-align: right;\n",
       "    }\n",
       "</style>\n",
       "<table border=\"1\" class=\"dataframe\">\n",
       "  <thead>\n",
       "    <tr style=\"text-align: right;\">\n",
       "      <th></th>\n",
       "      <th>buyer</th>\n",
       "      <th>event_counter</th>\n",
       "    </tr>\n",
       "  </thead>\n",
       "  <tbody>\n",
       "    <tr>\n",
       "      <th>0</th>\n",
       "      <td>000</td>\n",
       "      <td>6</td>\n",
       "    </tr>\n",
       "    <tr>\n",
       "      <th>1</th>\n",
       "      <td>111</td>\n",
       "      <td>5</td>\n",
       "    </tr>\n",
       "    <tr>\n",
       "      <th>2</th>\n",
       "      <td>22</td>\n",
       "      <td>5</td>\n",
       "    </tr>\n",
       "    <tr>\n",
       "      <th>3</th>\n",
       "      <td>333</td>\n",
       "      <td>15</td>\n",
       "    </tr>\n",
       "    <tr>\n",
       "      <th>4</th>\n",
       "      <td>444</td>\n",
       "      <td>12</td>\n",
       "    </tr>\n",
       "  </tbody>\n",
       "</table>\n",
       "</div>"
      ],
      "text/plain": [
       "  buyer  event_counter\n",
       "0   000              6\n",
       "1   111              5\n",
       "2    22              5\n",
       "3   333             15\n",
       "4   444             12"
      ]
     },
     "execution_count": 116,
     "metadata": {},
     "output_type": "execute_result"
    }
   ],
   "source": [
    "# В завершение необходимо подсчитать количество конверсий для каждого байера\n",
    "activity = activity \\\n",
    "                .groupby('buyer', as_index=False) \\\n",
    "                .agg({'event_counter':'sum'})\n",
    "activity"
   ]
  },
  {
   "cell_type": "code",
   "execution_count": 118,
   "id": "e30ed643",
   "metadata": {},
   "outputs": [],
   "source": [
    "# Сохранение файла в формате csv в выбранную папку\n",
    "new_file_name = re.sub(r'[\\(\\)]', '', filepath.split(\"/\")[-1])\n",
    "activity.to_csv(f'/Users/emiliamaul/Documents/GitHub/Syndicate-Group/{new_file_name}', index=False)"
   ]
  }
 ],
 "metadata": {
  "kernelspec": {
   "display_name": "Python 3 (ipykernel)",
   "language": "python",
   "name": "python3"
  },
  "language_info": {
   "codemirror_mode": {
    "name": "ipython",
    "version": 3
   },
   "file_extension": ".py",
   "mimetype": "text/x-python",
   "name": "python",
   "nbconvert_exporter": "python",
   "pygments_lexer": "ipython3",
   "version": "3.10.9"
  }
 },
 "nbformat": 4,
 "nbformat_minor": 5
}
